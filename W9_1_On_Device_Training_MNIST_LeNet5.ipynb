{
  "cells": [
    {
      "cell_type": "markdown",
      "metadata": {
        "id": "5rr7qo-J-a5J"
      },
      "source": [
        "# Build a simple neural network in ORT and train it to recognize handwritten digits using the MNIST dataset. (On-Device Training)\n",
        "\n",
        "Ref: https://github.com/microsoft/onnxruntime-training-examples/blob/master/on_device_training/desktop/python/mnist.ipynb\n",
        "\n",
        "Ref2: https://onnxruntime.ai/docs/api/python/on_device_training/training_api.html#onnxruntime.training.api.Optimizer"
      ]
    },
    {
      "cell_type": "markdown",
      "metadata": {
        "id": "PoB6n7pC-a5M"
      },
      "source": [
        "This tutorial has two sections:\n",
        "\n",
        "1. Offline Phase - Preparing training artifacts that will be consumed in the training phase.\n",
        "2. Training Phase - Train the model on the device.\n"
      ]
    },
    {
      "cell_type": "markdown",
      "metadata": {
        "id": "LexV-gVd-a5M"
      },
      "source": [
        "#### Importing libraries\n",
        "\n",
        "Make sure to install onnxruntime-training's nightly version.\n",
        "\n",
        "```pip install onnxruntime-training```"
      ]
    },
    {
      "cell_type": "code",
      "execution_count": 1,
      "metadata": {
        "colab": {
          "base_uri": "https://localhost:8080/"
        },
        "id": "7TBbDS-P-E27",
        "outputId": "813783b9-8bf8-441a-9640-bff92fd08bc9"
      },
      "outputs": [
        {
          "output_type": "stream",
          "name": "stdout",
          "text": [
            "Collecting onnx\n",
            "  Downloading onnx-1.17.0-cp310-cp310-manylinux_2_17_x86_64.manylinux2014_x86_64.whl.metadata (16 kB)\n",
            "Collecting onnxruntime\n",
            "  Downloading onnxruntime-1.19.2-cp310-cp310-manylinux_2_27_x86_64.manylinux_2_28_x86_64.whl.metadata (4.5 kB)\n",
            "Collecting netron\n",
            "  Downloading netron-7.9.5-py3-none-any.whl.metadata (1.5 kB)\n",
            "Collecting evaluate\n",
            "  Downloading evaluate-0.4.3-py3-none-any.whl.metadata (9.2 kB)\n",
            "Requirement already satisfied: numpy>=1.20 in /usr/local/lib/python3.10/dist-packages (from onnx) (1.26.4)\n",
            "Requirement already satisfied: protobuf>=3.20.2 in /usr/local/lib/python3.10/dist-packages (from onnx) (3.20.3)\n",
            "Collecting coloredlogs (from onnxruntime)\n",
            "  Downloading coloredlogs-15.0.1-py2.py3-none-any.whl.metadata (12 kB)\n",
            "Requirement already satisfied: flatbuffers in /usr/local/lib/python3.10/dist-packages (from onnxruntime) (24.3.25)\n",
            "Requirement already satisfied: packaging in /usr/local/lib/python3.10/dist-packages (from onnxruntime) (24.1)\n",
            "Requirement already satisfied: sympy in /usr/local/lib/python3.10/dist-packages (from onnxruntime) (1.13.3)\n",
            "Collecting datasets>=2.0.0 (from evaluate)\n",
            "  Downloading datasets-3.0.1-py3-none-any.whl.metadata (20 kB)\n",
            "Collecting dill (from evaluate)\n",
            "  Downloading dill-0.3.9-py3-none-any.whl.metadata (10 kB)\n",
            "Requirement already satisfied: pandas in /usr/local/lib/python3.10/dist-packages (from evaluate) (2.2.2)\n",
            "Requirement already satisfied: requests>=2.19.0 in /usr/local/lib/python3.10/dist-packages (from evaluate) (2.32.3)\n",
            "Requirement already satisfied: tqdm>=4.62.1 in /usr/local/lib/python3.10/dist-packages (from evaluate) (4.66.5)\n",
            "Collecting xxhash (from evaluate)\n",
            "  Downloading xxhash-3.5.0-cp310-cp310-manylinux_2_17_x86_64.manylinux2014_x86_64.whl.metadata (12 kB)\n",
            "Collecting multiprocess (from evaluate)\n",
            "  Downloading multiprocess-0.70.17-py310-none-any.whl.metadata (7.2 kB)\n",
            "Requirement already satisfied: fsspec>=2021.05.0 in /usr/local/lib/python3.10/dist-packages (from fsspec[http]>=2021.05.0->evaluate) (2024.6.1)\n",
            "Requirement already satisfied: huggingface-hub>=0.7.0 in /usr/local/lib/python3.10/dist-packages (from evaluate) (0.24.7)\n",
            "Requirement already satisfied: filelock in /usr/local/lib/python3.10/dist-packages (from datasets>=2.0.0->evaluate) (3.16.1)\n",
            "Requirement already satisfied: pyarrow>=15.0.0 in /usr/local/lib/python3.10/dist-packages (from datasets>=2.0.0->evaluate) (16.1.0)\n",
            "Collecting dill (from evaluate)\n",
            "  Downloading dill-0.3.8-py3-none-any.whl.metadata (10 kB)\n",
            "Requirement already satisfied: aiohttp in /usr/local/lib/python3.10/dist-packages (from datasets>=2.0.0->evaluate) (3.10.9)\n",
            "Requirement already satisfied: pyyaml>=5.1 in /usr/local/lib/python3.10/dist-packages (from datasets>=2.0.0->evaluate) (6.0.2)\n",
            "Requirement already satisfied: typing-extensions>=3.7.4.3 in /usr/local/lib/python3.10/dist-packages (from huggingface-hub>=0.7.0->evaluate) (4.12.2)\n",
            "Requirement already satisfied: charset-normalizer<4,>=2 in /usr/local/lib/python3.10/dist-packages (from requests>=2.19.0->evaluate) (3.3.2)\n",
            "Requirement already satisfied: idna<4,>=2.5 in /usr/local/lib/python3.10/dist-packages (from requests>=2.19.0->evaluate) (3.10)\n",
            "Requirement already satisfied: urllib3<3,>=1.21.1 in /usr/local/lib/python3.10/dist-packages (from requests>=2.19.0->evaluate) (2.2.3)\n",
            "Requirement already satisfied: certifi>=2017.4.17 in /usr/local/lib/python3.10/dist-packages (from requests>=2.19.0->evaluate) (2024.8.30)\n",
            "Collecting humanfriendly>=9.1 (from coloredlogs->onnxruntime)\n",
            "  Downloading humanfriendly-10.0-py2.py3-none-any.whl.metadata (9.2 kB)\n",
            "INFO: pip is looking at multiple versions of multiprocess to determine which version is compatible with other requirements. This could take a while.\n",
            "Collecting multiprocess (from evaluate)\n",
            "  Downloading multiprocess-0.70.16-py310-none-any.whl.metadata (7.2 kB)\n",
            "Requirement already satisfied: python-dateutil>=2.8.2 in /usr/local/lib/python3.10/dist-packages (from pandas->evaluate) (2.8.2)\n",
            "Requirement already satisfied: pytz>=2020.1 in /usr/local/lib/python3.10/dist-packages (from pandas->evaluate) (2024.2)\n",
            "Requirement already satisfied: tzdata>=2022.7 in /usr/local/lib/python3.10/dist-packages (from pandas->evaluate) (2024.2)\n",
            "Requirement already satisfied: mpmath<1.4,>=1.1.0 in /usr/local/lib/python3.10/dist-packages (from sympy->onnxruntime) (1.3.0)\n",
            "Requirement already satisfied: aiohappyeyeballs>=2.3.0 in /usr/local/lib/python3.10/dist-packages (from aiohttp->datasets>=2.0.0->evaluate) (2.4.3)\n",
            "Requirement already satisfied: aiosignal>=1.1.2 in /usr/local/lib/python3.10/dist-packages (from aiohttp->datasets>=2.0.0->evaluate) (1.3.1)\n",
            "Requirement already satisfied: attrs>=17.3.0 in /usr/local/lib/python3.10/dist-packages (from aiohttp->datasets>=2.0.0->evaluate) (24.2.0)\n",
            "Requirement already satisfied: frozenlist>=1.1.1 in /usr/local/lib/python3.10/dist-packages (from aiohttp->datasets>=2.0.0->evaluate) (1.4.1)\n",
            "Requirement already satisfied: multidict<7.0,>=4.5 in /usr/local/lib/python3.10/dist-packages (from aiohttp->datasets>=2.0.0->evaluate) (6.1.0)\n",
            "Requirement already satisfied: yarl<2.0,>=1.12.0 in /usr/local/lib/python3.10/dist-packages (from aiohttp->datasets>=2.0.0->evaluate) (1.13.1)\n",
            "Requirement already satisfied: async-timeout<5.0,>=4.0 in /usr/local/lib/python3.10/dist-packages (from aiohttp->datasets>=2.0.0->evaluate) (4.0.3)\n",
            "Requirement already satisfied: six>=1.5 in /usr/local/lib/python3.10/dist-packages (from python-dateutil>=2.8.2->pandas->evaluate) (1.16.0)\n",
            "Downloading onnx-1.17.0-cp310-cp310-manylinux_2_17_x86_64.manylinux2014_x86_64.whl (16.0 MB)\n",
            "\u001b[2K   \u001b[90m━━━━━━━━━━━━━━━━━━━━━━━━━━━━━━━━━━━━━━━━\u001b[0m \u001b[32m16.0/16.0 MB\u001b[0m \u001b[31m36.5 MB/s\u001b[0m eta \u001b[36m0:00:00\u001b[0m\n",
            "\u001b[?25hDownloading onnxruntime-1.19.2-cp310-cp310-manylinux_2_27_x86_64.manylinux_2_28_x86_64.whl (13.2 MB)\n",
            "\u001b[2K   \u001b[90m━━━━━━━━━━━━━━━━━━━━━━━━━━━━━━━━━━━━━━━━\u001b[0m \u001b[32m13.2/13.2 MB\u001b[0m \u001b[31m23.1 MB/s\u001b[0m eta \u001b[36m0:00:00\u001b[0m\n",
            "\u001b[?25hDownloading netron-7.9.5-py3-none-any.whl (1.8 MB)\n",
            "\u001b[2K   \u001b[90m━━━━━━━━━━━━━━━━━━━━━━━━━━━━━━━━━━━━━━━━\u001b[0m \u001b[32m1.8/1.8 MB\u001b[0m \u001b[31m24.5 MB/s\u001b[0m eta \u001b[36m0:00:00\u001b[0m\n",
            "\u001b[?25hDownloading evaluate-0.4.3-py3-none-any.whl (84 kB)\n",
            "\u001b[2K   \u001b[90m━━━━━━━━━━━━━━━━━━━━━━━━━━━━━━━━━━━━━━━━\u001b[0m \u001b[32m84.0/84.0 kB\u001b[0m \u001b[31m4.8 MB/s\u001b[0m eta \u001b[36m0:00:00\u001b[0m\n",
            "\u001b[?25hDownloading datasets-3.0.1-py3-none-any.whl (471 kB)\n",
            "\u001b[2K   \u001b[90m━━━━━━━━━━━━━━━━━━━━━━━━━━━━━━━━━━━━━━━━\u001b[0m \u001b[32m471.6/471.6 kB\u001b[0m \u001b[31m12.6 MB/s\u001b[0m eta \u001b[36m0:00:00\u001b[0m\n",
            "\u001b[?25hDownloading dill-0.3.8-py3-none-any.whl (116 kB)\n",
            "\u001b[2K   \u001b[90m━━━━━━━━━━━━━━━━━━━━━━━━━━━━━━━━━━━━━━━━\u001b[0m \u001b[32m116.3/116.3 kB\u001b[0m \u001b[31m5.4 MB/s\u001b[0m eta \u001b[36m0:00:00\u001b[0m\n",
            "\u001b[?25hDownloading coloredlogs-15.0.1-py2.py3-none-any.whl (46 kB)\n",
            "\u001b[2K   \u001b[90m━━━━━━━━━━━━━━━━━━━━━━━━━━━━━━━━━━━━━━━━\u001b[0m \u001b[32m46.0/46.0 kB\u001b[0m \u001b[31m2.4 MB/s\u001b[0m eta \u001b[36m0:00:00\u001b[0m\n",
            "\u001b[?25hDownloading multiprocess-0.70.16-py310-none-any.whl (134 kB)\n",
            "\u001b[2K   \u001b[90m━━━━━━━━━━━━━━━━━━━━━━━━━━━━━━━━━━━━━━━━\u001b[0m \u001b[32m134.8/134.8 kB\u001b[0m \u001b[31m6.0 MB/s\u001b[0m eta \u001b[36m0:00:00\u001b[0m\n",
            "\u001b[?25hDownloading xxhash-3.5.0-cp310-cp310-manylinux_2_17_x86_64.manylinux2014_x86_64.whl (194 kB)\n",
            "\u001b[2K   \u001b[90m━━━━━━━━━━━━━━━━━━━━━━━━━━━━━━━━━━━━━━━━\u001b[0m \u001b[32m194.1/194.1 kB\u001b[0m \u001b[31m6.3 MB/s\u001b[0m eta \u001b[36m0:00:00\u001b[0m\n",
            "\u001b[?25hDownloading humanfriendly-10.0-py2.py3-none-any.whl (86 kB)\n",
            "\u001b[2K   \u001b[90m━━━━━━━━━━━━━━━━━━━━━━━━━━━━━━━━━━━━━━━━\u001b[0m \u001b[32m86.8/86.8 kB\u001b[0m \u001b[31m5.1 MB/s\u001b[0m eta \u001b[36m0:00:00\u001b[0m\n",
            "\u001b[?25hInstalling collected packages: netron, xxhash, onnx, humanfriendly, dill, multiprocess, coloredlogs, onnxruntime, datasets, evaluate\n",
            "Successfully installed coloredlogs-15.0.1 datasets-3.0.1 dill-0.3.8 evaluate-0.4.3 humanfriendly-10.0 multiprocess-0.70.16 netron-7.9.5 onnx-1.17.0 onnxruntime-1.19.2 xxhash-3.5.0\n"
          ]
        }
      ],
      "source": [
        "# @title ONNX and ONNXruntime installation\n",
        "!pip install onnx onnxruntime netron evaluate"
      ]
    },
    {
      "cell_type": "code",
      "execution_count": 2,
      "metadata": {
        "colab": {
          "base_uri": "https://localhost:8080/"
        },
        "id": "xyu3106l94Qo",
        "outputId": "53ad9be4-ae8f-494c-8893-31dc446cc8f8"
      },
      "outputs": [
        {
          "output_type": "stream",
          "name": "stdout",
          "text": [
            "Collecting onnxruntime-training==1.15.0\n",
            "  Downloading onnxruntime_training-1.15.0-cp310-cp310-manylinux_2_17_x86_64.manylinux2014_x86_64.whl.metadata (3.9 kB)\n",
            "Collecting cerberus (from onnxruntime-training==1.15.0)\n",
            "  Downloading Cerberus-1.3.5-py3-none-any.whl.metadata (6.0 kB)\n",
            "Requirement already satisfied: flatbuffers in /usr/local/lib/python3.10/dist-packages (from onnxruntime-training==1.15.0) (24.3.25)\n",
            "Requirement already satisfied: h5py in /usr/local/lib/python3.10/dist-packages (from onnxruntime-training==1.15.0) (3.11.0)\n",
            "Requirement already satisfied: numpy>=1.16.6 in /usr/local/lib/python3.10/dist-packages (from onnxruntime-training==1.15.0) (1.26.4)\n",
            "Requirement already satisfied: onnx in /usr/local/lib/python3.10/dist-packages (from onnxruntime-training==1.15.0) (1.17.0)\n",
            "Requirement already satisfied: packaging in /usr/local/lib/python3.10/dist-packages (from onnxruntime-training==1.15.0) (24.1)\n",
            "Requirement already satisfied: protobuf in /usr/local/lib/python3.10/dist-packages (from onnxruntime-training==1.15.0) (3.20.3)\n",
            "Requirement already satisfied: sympy in /usr/local/lib/python3.10/dist-packages (from onnxruntime-training==1.15.0) (1.13.3)\n",
            "Requirement already satisfied: setuptools>=41.4.0 in /usr/local/lib/python3.10/dist-packages (from onnxruntime-training==1.15.0) (71.0.4)\n",
            "Requirement already satisfied: mpmath<1.4,>=1.1.0 in /usr/local/lib/python3.10/dist-packages (from sympy->onnxruntime-training==1.15.0) (1.3.0)\n",
            "Downloading onnxruntime_training-1.15.0-cp310-cp310-manylinux_2_17_x86_64.manylinux2014_x86_64.whl (294.4 MB)\n",
            "\u001b[2K   \u001b[90m━━━━━━━━━━━━━━━━━━━━━━━━━━━━━━━━━━━━━━━━\u001b[0m \u001b[32m294.4/294.4 MB\u001b[0m \u001b[31m5.2 MB/s\u001b[0m eta \u001b[36m0:00:00\u001b[0m\n",
            "\u001b[?25hDownloading Cerberus-1.3.5-py3-none-any.whl (30 kB)\n",
            "Installing collected packages: cerberus, onnxruntime-training\n",
            "Successfully installed cerberus-1.3.5 onnxruntime-training-1.15.0\n",
            "Collecting onnxruntime-training==1.18.0\n",
            "  Downloading onnxruntime_training-1.18.0-cp310-cp310-manylinux_2_28_x86_64.whl.metadata (4.3 kB)\n",
            "Requirement already satisfied: cerberus in /usr/local/lib/python3.10/dist-packages (from onnxruntime-training==1.18.0) (1.3.5)\n",
            "Requirement already satisfied: flatbuffers in /usr/local/lib/python3.10/dist-packages (from onnxruntime-training==1.18.0) (24.3.25)\n",
            "Requirement already satisfied: h5py in /usr/local/lib/python3.10/dist-packages (from onnxruntime-training==1.18.0) (3.11.0)\n",
            "Requirement already satisfied: numpy>=1.16.6 in /usr/local/lib/python3.10/dist-packages (from onnxruntime-training==1.18.0) (1.26.4)\n",
            "Requirement already satisfied: onnx in /usr/local/lib/python3.10/dist-packages (from onnxruntime-training==1.18.0) (1.17.0)\n",
            "Requirement already satisfied: packaging in /usr/local/lib/python3.10/dist-packages (from onnxruntime-training==1.18.0) (24.1)\n",
            "Requirement already satisfied: protobuf in /usr/local/lib/python3.10/dist-packages (from onnxruntime-training==1.18.0) (3.20.3)\n",
            "Requirement already satisfied: sympy in /usr/local/lib/python3.10/dist-packages (from onnxruntime-training==1.18.0) (1.13.3)\n",
            "Requirement already satisfied: setuptools>=61.0.0 in /usr/local/lib/python3.10/dist-packages (from onnxruntime-training==1.18.0) (71.0.4)\n",
            "Requirement already satisfied: mpmath<1.4,>=1.1.0 in /usr/local/lib/python3.10/dist-packages (from sympy->onnxruntime-training==1.18.0) (1.3.0)\n",
            "Downloading onnxruntime_training-1.18.0-cp310-cp310-manylinux_2_28_x86_64.whl (279.0 MB)\n",
            "\u001b[2K   \u001b[90m━━━━━━━━━━━━━━━━━━━━━━━━━━━━━━━━━━━━━━━━\u001b[0m \u001b[32m279.0/279.0 MB\u001b[0m \u001b[31m4.7 MB/s\u001b[0m eta \u001b[36m0:00:00\u001b[0m\n",
            "\u001b[?25hInstalling collected packages: onnxruntime-training\n",
            "  Attempting uninstall: onnxruntime-training\n",
            "    Found existing installation: onnxruntime-training 1.15.0\n",
            "    Uninstalling onnxruntime-training-1.15.0:\n",
            "      Successfully uninstalled onnxruntime-training-1.15.0\n",
            "Successfully installed onnxruntime-training-1.18.0\n"
          ]
        }
      ],
      "source": [
        "# @title Install ONNXruntime 1.15.0 (first) then >=1.18.0 (second)\n",
        "\"\"\"\n",
        "Arg:\n",
        "  Remark ---> onnxruntime-training installation for 'onnxblock' sub-function API\n",
        "  onnxruntime-training available version (1.15.0, 1.15.1, 1.16.0, 1.16.2, 1.16.3, 1.17.1, 1.17.3, 1.18.0, 1.19.1, 1.19.2)\n",
        "  Step 1: Install onnxruntime-training version 1.15.0\n",
        "  Step 2: Install onnxruntime-training version 1.18.0\n",
        "\"\"\"\n",
        "!pip install onnxruntime-training==1.15.0\n",
        "!pip install onnxruntime-training==1.18.0"
      ]
    },
    {
      "cell_type": "markdown",
      "metadata": {
        "id": "UJ19A2Zt_P_Z"
      },
      "source": [
        "-----\n",
        "## 0 - Library Preparation"
      ]
    },
    {
      "cell_type": "code",
      "execution_count": 3,
      "metadata": {
        "colab": {
          "base_uri": "https://localhost:8080/"
        },
        "id": "3qTZjjHD-a5N",
        "outputId": "10cfa74c-461e-4ff7-d632-ee787b6427c6"
      },
      "outputs": [
        {
          "output_type": "stream",
          "name": "stderr",
          "text": [
            "No CUDA runtime is found, using CUDA_HOME='/usr/local/cuda'\n",
            "/usr/local/lib/python3.10/dist-packages/onnxruntime/capi/onnxruntime_validation.py:114: UserWarning: WARNING: failed to get cudart_version from onnxruntime build info.\n",
            "  warnings.warn(\"WARNING: failed to get cudart_version from onnxruntime build info.\")\n"
          ]
        }
      ],
      "source": [
        "import onnx\n",
        "import onnxruntime.training.onnxblock as onnxblock\n",
        "from onnxruntime.training.api import CheckpointState, Module, Optimizer\n",
        "from onnxruntime.training import artifacts\n",
        "from onnxruntime import InferenceSession\n",
        "from torchvision import datasets, transforms\n",
        "import torch\n",
        "import torch.nn as nn\n",
        "import torch.nn.functional as F\n",
        "import matplotlib.pyplot as plt\n",
        "import numpy as np\n",
        "import io\n",
        "import os\n",
        "import netron\n",
        "import evaluate"
      ]
    },
    {
      "cell_type": "code",
      "execution_count": 4,
      "metadata": {
        "id": "MvK3UwfHywuX"
      },
      "outputs": [],
      "source": [
        "# Hyper-parameter\n",
        "image_size = 28\n",
        "batch_size = 64\n",
        "test_batch_size = 64\n",
        "# VVVVVVVVVVV\n",
        "NN = 'mlp'  # Optional: {'mlp', 'cnn'}\n",
        "# AAAAAAAAAAA"
      ]
    },
    {
      "cell_type": "markdown",
      "metadata": {
        "id": "ETtmd0Hc-a5N"
      },
      "source": [
        "## 1 - Offline Step\n",
        "\n",
        "To run your training loop, first you need to generate training, eval (optional) and optimizer graphs.\n",
        "\n",
        "We expect the users to have an onnx forward only model, you can generate this model with different ways, in this example we will be using torch.export to generate this model."
      ]
    },
    {
      "cell_type": "code",
      "execution_count": 5,
      "metadata": {
        "id": "i6cmg-D_-a5O"
      },
      "outputs": [],
      "source": [
        "# Pytorch class that we will use to generate the graphs.\n",
        "class MNISTNet(torch.nn.Module):\n",
        "    def __init__(self, input_size, hidden_size, num_classes):\n",
        "        super(MNISTNet, self).__init__()\n",
        "\n",
        "        self.fc1 = torch.nn.Linear(input_size, hidden_size)\n",
        "        self.relu = torch.nn.ReLU()\n",
        "        self.fc2 = torch.nn.Linear(hidden_size, num_classes)\n",
        "\n",
        "    def forward(self, model_input):\n",
        "        out = self.fc1(model_input)\n",
        "        out = self.relu(out)\n",
        "        out = self.fc2(out)\n",
        "        return out\n",
        "\n",
        "class LeNet5(nn.Module):\n",
        "    def __init__(self, num_classes=10):\n",
        "        super(LeNet5, self).__init__()\n",
        "        self.conv1 = nn.Conv2d(1, 6, 5)  # Input channel, output channel, kernel size\n",
        "        self.pool1 = nn.MaxPool2d(2, 2)\n",
        "        self.conv2 = nn.Conv2d(6, 16, 5)\n",
        "        self.pool2 = nn.MaxPool2d(2, 2)\n",
        "        self.fc1 = nn.Linear(16 * 4 * 4, 120)\n",
        "        self.fc2 = nn.Linear(120, 84)\n",
        "        self.fc3 = nn.Linear(84, num_classes)\n",
        "\n",
        "    def forward(self, x):\n",
        "        x = F.relu(self.conv1(x))\n",
        "        x = self.pool1(x)\n",
        "        x = F.relu(self.conv2(x))\n",
        "        x = self.pool2(x)\n",
        "        x = x.view(-1, 16 * 4 * 4)\n",
        "        x = F.relu(self.fc1(x))\n",
        "        x = F.relu(self.fc2(x))\n",
        "        x = self.fc3(x)\n",
        "        return x\n",
        "\n",
        "# Create a MNISTNet instance.\n",
        "device = \"cpu\"\n",
        "if NN == 'mlp':\n",
        "  input_size, hidden_size, output_size = 784, 500, 10\n",
        "  pt_model = MNISTNet(input_size, hidden_size, output_size).to(device)\n",
        "  model_inputs = (torch.randn(batch_size, input_size, device=device),)\n",
        "elif NN == 'cnn':\n",
        "  pt_model = LeNet5(num_classes=10).to(device)\n",
        "  model_inputs = (torch.randn(batch_size, 1, image_size, image_size, device=device),)"
      ]
    },
    {
      "cell_type": "markdown",
      "metadata": {
        "id": "JXnjw6hM-a5O"
      },
      "source": [
        "### Generating forward only graph."
      ]
    },
    {
      "cell_type": "code",
      "execution_count": 6,
      "metadata": {
        "id": "jWlDQnra-a5O"
      },
      "outputs": [],
      "source": [
        "model_outputs = pt_model(*model_inputs)\n",
        "if isinstance(model_outputs, torch.Tensor):\n",
        "    model_outputs = [model_outputs]\n",
        "\n",
        "input_names = [\"input\"]\n",
        "output_names = [\"output\"]\n",
        "dynamic_axes = {\"input\": {0: \"batch_size\"}, \"output\": {0: \"batch_size\"}}\n",
        "\n",
        "# f = io.BytesIO()\n",
        "if not os.path.exists(\"data\"): os.makedirs(\"data\")\n",
        "torch.onnx.export(\n",
        "    pt_model,\n",
        "    model_inputs,\n",
        "    'data/training_model.onnx',\n",
        "    # f,\n",
        "    input_names=input_names,\n",
        "    output_names=output_names,\n",
        "    opset_version=14,\n",
        "    do_constant_folding=False,\n",
        "    training=torch.onnx.TrainingMode.TRAINING,\n",
        "    dynamic_axes=dynamic_axes,\n",
        "    export_params=True,\n",
        "    keep_initializers_as_inputs=False,\n",
        ")\n",
        "# onnx_model = onnx.load_model_from_string(f.getvalue())\n",
        "onnx_model = onnx.load(\"data/training_model.onnx\")"
      ]
    },
    {
      "cell_type": "markdown",
      "metadata": {
        "id": "7mUlFh3YBryG"
      },
      "source": [
        "#### After creating forward only graph, we can now create the training graph."
      ]
    },
    {
      "cell_type": "markdown",
      "metadata": {
        "id": "a7zOjSZv-a5O"
      },
      "source": [
        "##### **Method 1:**\n",
        "\n",
        "Alternatively, you can use the generate_artifacts function provided by the onnxblock library. This function automatically generates a training graph based on the forward-only graph and the specified loss function."
      ]
    },
    {
      "cell_type": "code",
      "execution_count": 7,
      "metadata": {
        "id": "zbEHAy-7-a5P"
      },
      "outputs": [],
      "source": [
        "requires_grad = [name for name, param in pt_model.named_parameters() if param.requires_grad]\n",
        "frozen_params = [name for name, param in pt_model.named_parameters() if not param.requires_grad]\n",
        "\n",
        "artifacts.generate_artifacts(\n",
        "    onnx_model,\n",
        "    optimizer=artifacts.OptimType.AdamW,\n",
        "    loss=artifacts.LossType.CrossEntropyLoss,\n",
        "    requires_grad=requires_grad,\n",
        "    frozen_params=frozen_params,\n",
        "    artifact_directory=\"data\",\n",
        "    additional_output_names=[\"output\"],\n",
        ")"
      ]
    },
    {
      "cell_type": "markdown",
      "metadata": {
        "id": "2a7hkWaZ-a5P"
      },
      "source": [
        "##### **Method 2:**\n",
        "\n",
        "The first step is creating a simple class that inherits from onnxblock.TrainingModel, and define the loss function.\n",
        "the build function defines the output of our model."
      ]
    },
    {
      "cell_type": "code",
      "execution_count": 8,
      "metadata": {
        "id": "soevXYTB-a5P"
      },
      "outputs": [],
      "source": [
        "# Creating a class with a Loss function.\n",
        "class MNISTTrainingBlock(onnxblock.TrainingBlock):\n",
        "    def __init__(self):\n",
        "        super(MNISTTrainingBlock, self).__init__()\n",
        "        self.loss = onnxblock.loss.CrossEntropyLoss()\n",
        "\n",
        "    def build(self, output_name):\n",
        "        return self.loss(output_name), output_name"
      ]
    },
    {
      "cell_type": "code",
      "execution_count": 9,
      "metadata": {
        "colab": {
          "base_uri": "https://localhost:8080/"
        },
        "id": "1hbd_JKE-a5P",
        "outputId": "391a6eea-cf7f-4cc6-b25f-444201120a08"
      },
      "outputs": [
        {
          "output_type": "stream",
          "name": "stdout",
          "text": [
            "fc1.weight\n",
            "fc1.bias\n",
            "fc2.weight\n",
            "fc2.bias\n"
          ]
        }
      ],
      "source": [
        "# Build the onnx model with loss\n",
        "training_block = MNISTTrainingBlock()\n",
        "for param in onnx_model.graph.initializer:\n",
        "    print(param.name)\n",
        "    training_block.requires_grad(param.name, True)\n",
        "\n",
        "# Building training graph and eval graph.\n",
        "model_params = None\n",
        "with onnxblock.base(onnx_model):\n",
        "    _ = training_block(*[output.name for output in onnx_model.graph.output])\n",
        "    training_model, eval_model = training_block.to_model_proto()\n",
        "    model_params = training_block.parameters()\n",
        "\n",
        "# Building the optimizer graph\n",
        "optimizer_block = onnxblock.optim.AdamW()\n",
        "with onnxblock.empty_base() as accessor:\n",
        "    _ = optimizer_block(model_params)\n",
        "    optimizer_model = optimizer_block.to_model_proto()"
      ]
    },
    {
      "cell_type": "code",
      "execution_count": 10,
      "metadata": {
        "id": "8rx6b_kZ-a5P"
      },
      "outputs": [],
      "source": [
        "# Saving all the files to use them later for the training.\n",
        "onnxblock.save_checkpoint(training_block.parameters(), \"data/checkpoint.ckpt\")  # /checkpoint.ckpt onnxrt-training for >==1.15.0 elif lower then /checkpoint\n",
        "onnx.save(training_model, \"data/training_model.onnx\")\n",
        "onnx.save(optimizer_model, \"data/optimizer_model.onnx\")\n",
        "onnx.save(eval_model, \"data/eval_model.onnx\")"
      ]
    },
    {
      "cell_type": "markdown",
      "metadata": {
        "id": "tG6TE9Oy-a5P"
      },
      "source": [
        "#### You can use netron to visualize the graphs.\n",
        "This is an example of how an eval graph looks like"
      ]
    },
    {
      "cell_type": "code",
      "execution_count": 11,
      "metadata": {
        "colab": {
          "base_uri": "https://localhost:8080/"
        },
        "id": "VFWJoJl5-a5P",
        "outputId": "bdcb9c31-c625-4e67-c51b-1911d96024d6"
      },
      "outputs": [
        {
          "output_type": "stream",
          "name": "stdout",
          "text": [
            "Serving 'data/eval_model.onnx' at http://localhost:8081\n"
          ]
        },
        {
          "output_type": "execute_result",
          "data": {
            "text/plain": [
              "('localhost', 8081)"
            ]
          },
          "metadata": {},
          "execution_count": 11
        }
      ],
      "source": [
        "netron.start(\"data/eval_model.onnx\")"
      ]
    },
    {
      "cell_type": "markdown",
      "metadata": {
        "id": "Q2avWsq7-a5Q"
      },
      "source": [
        "![](graph.png)"
      ]
    },
    {
      "cell_type": "markdown",
      "metadata": {
        "id": "dwlzWm_F-a5Q"
      },
      "source": [
        "## 2 - Data Preparation\n",
        "we're going to use datasets to load the MNIST Dataset and then we'll wrap it in a DataLoader."
      ]
    },
    {
      "cell_type": "code",
      "execution_count": 12,
      "metadata": {
        "id": "qWOj_SqB-a5Q",
        "colab": {
          "base_uri": "https://localhost:8080/"
        },
        "outputId": "7e3bd20e-2316-4ae0-ea67-0bdb4edf98b7"
      },
      "outputs": [
        {
          "output_type": "stream",
          "name": "stdout",
          "text": [
            "Downloading http://yann.lecun.com/exdb/mnist/train-images-idx3-ubyte.gz\n",
            "Failed to download (trying next):\n",
            "HTTP Error 403: Forbidden\n",
            "\n",
            "Downloading https://ossci-datasets.s3.amazonaws.com/mnist/train-images-idx3-ubyte.gz\n",
            "Downloading https://ossci-datasets.s3.amazonaws.com/mnist/train-images-idx3-ubyte.gz to ../data/MNIST/raw/train-images-idx3-ubyte.gz\n"
          ]
        },
        {
          "output_type": "stream",
          "name": "stderr",
          "text": [
            "100%|██████████| 9912422/9912422 [00:00<00:00, 11528013.42it/s]\n"
          ]
        },
        {
          "output_type": "stream",
          "name": "stdout",
          "text": [
            "Extracting ../data/MNIST/raw/train-images-idx3-ubyte.gz to ../data/MNIST/raw\n",
            "\n",
            "Downloading http://yann.lecun.com/exdb/mnist/train-labels-idx1-ubyte.gz\n",
            "Failed to download (trying next):\n",
            "HTTP Error 403: Forbidden\n",
            "\n",
            "Downloading https://ossci-datasets.s3.amazonaws.com/mnist/train-labels-idx1-ubyte.gz\n",
            "Downloading https://ossci-datasets.s3.amazonaws.com/mnist/train-labels-idx1-ubyte.gz to ../data/MNIST/raw/train-labels-idx1-ubyte.gz\n"
          ]
        },
        {
          "output_type": "stream",
          "name": "stderr",
          "text": [
            "100%|██████████| 28881/28881 [00:00<00:00, 348996.66it/s]\n"
          ]
        },
        {
          "output_type": "stream",
          "name": "stdout",
          "text": [
            "Extracting ../data/MNIST/raw/train-labels-idx1-ubyte.gz to ../data/MNIST/raw\n",
            "\n",
            "Downloading http://yann.lecun.com/exdb/mnist/t10k-images-idx3-ubyte.gz\n",
            "Failed to download (trying next):\n",
            "HTTP Error 403: Forbidden\n",
            "\n",
            "Downloading https://ossci-datasets.s3.amazonaws.com/mnist/t10k-images-idx3-ubyte.gz\n",
            "Downloading https://ossci-datasets.s3.amazonaws.com/mnist/t10k-images-idx3-ubyte.gz to ../data/MNIST/raw/t10k-images-idx3-ubyte.gz\n"
          ]
        },
        {
          "output_type": "stream",
          "name": "stderr",
          "text": [
            "100%|██████████| 1648877/1648877 [00:00<00:00, 3155294.58it/s]\n"
          ]
        },
        {
          "output_type": "stream",
          "name": "stdout",
          "text": [
            "Extracting ../data/MNIST/raw/t10k-images-idx3-ubyte.gz to ../data/MNIST/raw\n",
            "\n",
            "Downloading http://yann.lecun.com/exdb/mnist/t10k-labels-idx1-ubyte.gz\n",
            "Failed to download (trying next):\n",
            "HTTP Error 403: Forbidden\n",
            "\n",
            "Downloading https://ossci-datasets.s3.amazonaws.com/mnist/t10k-labels-idx1-ubyte.gz\n",
            "Downloading https://ossci-datasets.s3.amazonaws.com/mnist/t10k-labels-idx1-ubyte.gz to ../data/MNIST/raw/t10k-labels-idx1-ubyte.gz\n"
          ]
        },
        {
          "output_type": "stream",
          "name": "stderr",
          "text": [
            "100%|██████████| 4542/4542 [00:00<00:00, 8315377.03it/s]\n"
          ]
        },
        {
          "output_type": "stream",
          "name": "stdout",
          "text": [
            "Extracting ../data/MNIST/raw/t10k-labels-idx1-ubyte.gz to ../data/MNIST/raw\n",
            "\n"
          ]
        }
      ],
      "source": [
        "train_kwargs = {'batch_size': batch_size}\n",
        "test_kwargs = {'batch_size': test_batch_size}\n",
        "\n",
        "transform = transforms.Compose([\n",
        "    transforms.Resize((image_size, image_size)),\n",
        "    transforms.ToTensor(),\n",
        "    transforms.Normalize((0.1307,), (0.3081,))\n",
        "    ])\n",
        "\n",
        "dataset1 = datasets.MNIST('../data', train=True, download=True,\n",
        "                    transform=transform)\n",
        "dataset2 = datasets.MNIST('../data', train=False,\n",
        "                    transform=transform)\n",
        "train_loader = torch.utils.data.DataLoader(dataset1,**train_kwargs)\n",
        "test_loader = torch.utils.data.DataLoader(dataset2, **test_kwargs)"
      ]
    },
    {
      "cell_type": "markdown",
      "metadata": {
        "id": "M_K7pU9l-a5Q"
      },
      "source": [
        "## 3 - Initialize Module and Optimizer\n",
        "We will use the saved files to initialize the state, model and optimizer.\n",
        "Note that the eval graph is optional."
      ]
    },
    {
      "cell_type": "code",
      "execution_count": 13,
      "metadata": {
        "id": "LjV0aSoD-a5Q"
      },
      "outputs": [],
      "source": [
        "# # !pip install --upgrade onnxruntime onnxruntime-training\n",
        "\n",
        "# # Create checkpoint state.\n",
        "# state = CheckpointState.load_checkpoint(\"data/checkpoint.ckpt\")\n",
        "\n",
        "# # Create module.\n",
        "# model = Module(\"data/training_model.onnx\", state, \"data/eval_model.onnx\")\n",
        "\n",
        "# # Create optimizer.\n",
        "# # optimizer = Optimizer(\"data/optimizer_model.onnx\", model)\n",
        "# # optimizer_block = onnxblock.optim.AdamW()"
      ]
    },
    {
      "cell_type": "code",
      "source": [
        "# Load the optimizer model\n",
        "model = onnx.load(\"data/optimizer_model.onnx\")\n",
        "\n",
        "# Change the opset import to a supported version (e.g., 21)\n",
        "for opset_import in model.opset_import:\n",
        "    if opset_import.domain == \"\" or opset_import.domain == \"ai.onnx\":  # Target the default ONNX domain\n",
        "        opset_import.version = 21  # Change to the desired opset version\n",
        "        break  # Assuming only one ONNX domain is imported\n",
        "\n",
        "# Save the modified model\n",
        "onnx.save(model, \"data/optimizer_model_opset21.onnx\")\n",
        "\n",
        "# Now use the modified model path when creating the Optimizer\n",
        "from onnxruntime.training.api import Optimizer, Module, CheckpointState\n",
        "\n",
        "state = CheckpointState.load_checkpoint(\"data/checkpoint.ckpt\")\n",
        "model = Module(\"data/training_model.onnx\", state, \"data/eval_model.onnx\")\n",
        "\n",
        "optimizer_uri = \"data/optimizer_model_opset21.onnx\"  # Use the modified model\n",
        "optimizer = Optimizer(optimizer_uri, model)"
      ],
      "metadata": {
        "id": "EWBz55L88VHv"
      },
      "execution_count": 14,
      "outputs": []
    },
    {
      "cell_type": "markdown",
      "metadata": {
        "id": "VRDUlz82-a5Q"
      },
      "source": [
        "## 4 - Run Training and Testing Loops\n",
        "In this step we will define training and testing loops.\n",
        "The steps for training are simple :\n",
        "\n",
        "1 - set model to train mode : model.train()\n",
        "\n",
        "2 - prepare the input by making sure all inputs are numpy arrays\n",
        "\n",
        "3 - pass the input to the model : model(input)\n",
        "\n",
        "4 - call optimizer.step()\n"
      ]
    },
    {
      "cell_type": "code",
      "execution_count": 15,
      "metadata": {
        "id": "GbCQ9wRh-a5Q"
      },
      "outputs": [],
      "source": [
        "# Util function to convert logits to predictions.\n",
        "def get_pred(logits):\n",
        "    return np.argmax(logits, axis=1)\n",
        "\n",
        "# Training Loop :\n",
        "def train(epoch):\n",
        "    model.train()\n",
        "    losses = []\n",
        "    for _, (data, target) in enumerate(train_loader):\n",
        "        forward_inputs = [data.reshape(len(data),784).numpy(),target.numpy().astype(np.int64)] if NN == 'mlp' \\\n",
        "        else [data.numpy(),target.numpy().astype(np.int64)]\n",
        "        train_loss, _ = model(*forward_inputs)\n",
        "        optimizer.step()\n",
        "        model.lazy_reset_grad()\n",
        "        losses.append(train_loss)\n",
        "\n",
        "    print(f'Epoch: {epoch+1},Train Loss: {sum(losses)/len(losses):.4f}')\n",
        "\n",
        "# Test Loop :\n",
        "def test(epoch):\n",
        "    model.eval()\n",
        "    losses = []\n",
        "    metric = evaluate.load('accuracy')\n",
        "\n",
        "    for _, (data, target) in enumerate(train_loader):\n",
        "        forward_inputs = [data.reshape(len(data),784).numpy(),target.numpy().astype(np.int64)] if NN == 'mlp' \\\n",
        "        else [data.numpy(),target.numpy().astype(np.int64)]\n",
        "        test_loss, logits = model(*forward_inputs)\n",
        "        metric.add_batch(references=target, predictions=get_pred(logits))\n",
        "        losses.append(test_loss)\n",
        "\n",
        "    metrics = metric.compute()\n",
        "    print(f'Epoch: {epoch+1}, Test Loss: {sum(losses)/len(losses):.4f}, Accuracy : {metrics[\"accuracy\"]:.4f}')\n",
        "\n"
      ]
    },
    {
      "cell_type": "code",
      "execution_count": 16,
      "metadata": {
        "id": "tTmGW3XN-a5Q",
        "colab": {
          "base_uri": "https://localhost:8080/",
          "height": 327,
          "referenced_widgets": [
            "8d3e407ab54a410986b1d3583db7316f",
            "7a8aa9725d5b4e45b5f848f7fafd5ff6",
            "e7b79b5682ec4f41a59cc3a31af1fe81",
            "ce9f1dce571e461abc163346a808897e",
            "97962b634882449f965caee7d9164823",
            "4c6c480813ee498987f71a71f0948be0",
            "40bed6fed4eb4d7c8626ca2ccf18ac1f",
            "e3bee2ccff754240ad37942dde46c505",
            "9a7aee00be9c4d9b9b84a84275a1f6e1",
            "bf005ff3af3c430d8e6f9e57f194c2f0",
            "5f4a9b9c19cf402b96bb27abf475865c"
          ]
        },
        "outputId": "3122e7e0-088e-474c-c05a-964280dffe5e"
      },
      "outputs": [
        {
          "output_type": "stream",
          "name": "stdout",
          "text": [
            "Epoch: 1,Train Loss: 0.2184\n"
          ]
        },
        {
          "output_type": "stream",
          "name": "stderr",
          "text": [
            "/usr/local/lib/python3.10/dist-packages/huggingface_hub/utils/_token.py:89: UserWarning: \n",
            "The secret `HF_TOKEN` does not exist in your Colab secrets.\n",
            "To authenticate with the Hugging Face Hub, create a token in your settings tab (https://huggingface.co/settings/tokens), set it as secret in your Google Colab and restart your session.\n",
            "You will be able to reuse this secret in all of your notebooks.\n",
            "Please note that authentication is recommended but still optional to access public models or datasets.\n",
            "  warnings.warn(\n"
          ]
        },
        {
          "output_type": "display_data",
          "data": {
            "text/plain": [
              "Downloading builder script:   0%|          | 0.00/4.20k [00:00<?, ?B/s]"
            ],
            "application/vnd.jupyter.widget-view+json": {
              "version_major": 2,
              "version_minor": 0,
              "model_id": "8d3e407ab54a410986b1d3583db7316f"
            }
          },
          "metadata": {}
        },
        {
          "output_type": "stream",
          "name": "stdout",
          "text": [
            "Epoch: 1, Test Loss: 0.1154, Accuracy : 0.9630\n",
            "Epoch: 2,Train Loss: 0.0898\n",
            "Epoch: 2, Test Loss: 0.0659, Accuracy : 0.9785\n",
            "Epoch: 3,Train Loss: 0.0570\n",
            "Epoch: 3, Test Loss: 0.0503, Accuracy : 0.9827\n",
            "Epoch: 4,Train Loss: 0.0403\n",
            "Epoch: 4, Test Loss: 0.0456, Accuracy : 0.9841\n",
            "Epoch: 5,Train Loss: 0.0292\n",
            "Epoch: 5, Test Loss: 0.0349, Accuracy : 0.9879\n"
          ]
        }
      ],
      "source": [
        "for epoch in range(5):\n",
        "    train(epoch)\n",
        "    test(epoch)"
      ]
    },
    {
      "cell_type": "markdown",
      "metadata": {
        "id": "wac0pjLr-a5Q"
      },
      "source": [
        "## 5 - Run Inferencing\n",
        "In this step we will use InferenceSession to run inferencing."
      ]
    },
    {
      "cell_type": "code",
      "execution_count": 17,
      "metadata": {
        "id": "Y60PoU4N-a5Q"
      },
      "outputs": [],
      "source": [
        "model.export_model_for_inferencing(\"data/inference_model.onnx\",[\"output\"])\n",
        "session = InferenceSession('data/inference_model.onnx',providers=['CPUExecutionProvider'])"
      ]
    },
    {
      "cell_type": "code",
      "execution_count": 18,
      "metadata": {
        "id": "7cL8Z_Sr-a5Q",
        "colab": {
          "base_uri": "https://localhost:8080/",
          "height": 1000
        },
        "outputId": "c82adb7f-c911-4a26-c3fa-b809f4f83dcd"
      },
      "outputs": [
        {
          "output_type": "display_data",
          "data": {
            "text/plain": [
              "<Figure size 900x900 with 64 Axes>"
            ],
            "image/png": "[encoded data removed]"
          },
          "metadata": {}
        },
        {
          "output_type": "stream",
          "name": "stdout",
          "text": [
            "\n",
            "\n",
            "\n",
            "\n",
            "Predicted Label :  [7 2 1 0 4 1 4 9 5 9 0 6 9 0 1 5 9 7 3 4 9 6 6 5 4 0 7 4 0 1 3 1 3 4 7 2 7\n",
            " 1 2 1 1 7 4 2 3 5 1 2 4 4 6 3 5 5 6 0 4 1 9 5 7 8 5 3]\n"
          ]
        }
      ],
      "source": [
        "# getting one example from test list to try inference.\n",
        "input_name = session.get_inputs()[0].name\n",
        "output_name = session.get_outputs()[0].name\n",
        "if NN == 'mlp':\n",
        "  data = next(iter(test_loader))[0]\n",
        "  output = session.run([output_name], {input_name: data.reshape(-1,784).numpy()})\n",
        "  #---single image plot\n",
        "  # plt.imshow(data[0], cmap='gray')\n",
        "  # plt.show()\n",
        "  #---batch plot\n",
        "  num_images = len(data)\n",
        "  rows = int(np.ceil(np.sqrt(num_images)))\n",
        "  cols = int(np.ceil(num_images / rows))\n",
        "  fig, axes = plt.subplots(rows, cols, figsize=(9, 9))\n",
        "  for i, ax in enumerate(axes.flatten()):\n",
        "      if i < num_images:\n",
        "          ax.imshow(data[i].squeeze(0), cmap='gray')\n",
        "          ax.set_title(f'Image {i+1}')\n",
        "      else:\n",
        "        ax.axis('off')  # Hide empty subplots\n",
        "  plt.tight_layout()\n",
        "  plt.show()\n",
        "  print(\"\\n\"*3)\n",
        "  print(\"Predicted Label : \",get_pred(output[0]))\n",
        "elif NN == 'cnn':\n",
        "  data = next(iter(test_loader))[0]\n",
        "  output = session.run([output_name], {input_name: data.numpy()})\n",
        "  #---single image plot\n",
        "  # plt.imshow(data[0].squeeze(0), cmap='gray')\n",
        "  # plt.show()\n",
        "  #---batch plot\n",
        "  num_images = len(data)\n",
        "  rows = int(np.ceil(np.sqrt(num_images)))\n",
        "  cols = int(np.ceil(num_images / rows))\n",
        "  fig, axes = plt.subplots(rows, cols, figsize=(9, 9))\n",
        "  for i, ax in enumerate(axes.flatten()):\n",
        "      if i < num_images:\n",
        "          ax.imshow(data[i].squeeze(0), cmap='gray')\n",
        "          ax.set_title(f'Image {i+1}')\n",
        "      else:\n",
        "        ax.axis('off')  # Hide empty subplots\n",
        "  plt.tight_layout()\n",
        "  plt.show()\n",
        "  print(\"\\n\"*3)\n",
        "  print(\"Predicted Label : \",get_pred(output[0]))\n"
      ]
    },
    {
      "cell_type": "markdown",
      "metadata": {
        "id": "lQa6n0uGcft5"
      },
      "source": [
        "-------\n",
        "# Homework\n",
        "\n",
        "สร้างโมเดลจาก\n",
        "\n",
        "\\\n",
        "1.1) LeNet-5\\\n",
        "1.2) GoogLeNet (Train from scratch) or SqueezeNet (Model from torchvision)\n",
        "\n",
        "\\\n",
        "แต่ export ไปเป็น ONNX format และ**ฝึกฝนผ่าน ONNXRuntime** ผ่าน CPU (Setting: 5 iterations)\n",
        "\n",
        "\n",
        "\n",
        "```\n",
        "#---SimpleCNN from scratch---\n",
        "class GoogLeNet(nn.Module):\n",
        "    def __init__(self, num_classes=1000):\n",
        "        super(GoogLeNet, self).__init__()\n",
        "        self.conv1 = nn.Conv2d(3, 64, kernel_size=7, stride=2, padding=3)\n",
        "        self.bn1 = nn.BatchNorm2d(64)\n",
        "        self.relu = nn.ReLU(inplace=True)\n",
        "        self.maxpool1 = nn.MaxPool2d(kernel_size=3, stride=2, padding=1)\n",
        "        self.conv2 = nn.Conv2d(64, 64, kernel_size=1)\n",
        "        self.conv3 = nn.Conv2d(64, 192, kernel_size=3, padding=1)\n",
        "        self.inception_block1 = Inception(64, 64, 64, 64, 32, 32)\n",
        "        self.inception_block2 = Inception(128, 128, 128, 128, 64, 64)\n",
        "        self.inception_block3 = Inception(256, 256, 256, 256, 128, 128)\n",
        "        self.inception_block4 = Inception(512, 512, 512, 512, 256, 256)\n",
        "        self.inception_block5 = Inception(1024, 1024, 1024, 1024, 512, 512)\n",
        "\n",
        "        self.avgpool = nn.AdaptiveAvgPool2d((1, 1))\n",
        "        self.fc = nn.Linear(1024, num_classes)\n",
        "\n",
        "    def forward(self, x):\n",
        "        x = self.conv1(x)\n",
        "        x = self.bn1(x)\n",
        "        x = self.relu(x)\n",
        "        x = self.maxpool1(x)\n",
        "\n",
        "        x = self.conv2(x)\n",
        "        x = self.bn1(x)\n",
        "        x = self.relu(x)\n",
        "        x = self.conv3(x)\n",
        "        x = self.bn1(x)\n",
        "        x = self.relu(x)\n",
        "        x = self.maxpool1(x)\n",
        "\n",
        "        x = self.inception_block1(x)\n",
        "        x = self.inception_block2(x)\n",
        "        x = self.inception_block3(x)\n",
        "        x = self.inception_block4(x)\n",
        "        x = self.inception_block5(x)\n",
        "\n",
        "        x = self.avgpool(x)\n",
        "        x = x.view(x.size(0), -1)\n",
        "        x = self.fc(x)\n",
        "        return x\n",
        "\n",
        "class Inception(nn.Module):\n",
        "    def __init__(self, in_channels, channels_1x1, channels_3x3_reduce, channels_3x3, channels_5x5_reduce, channels_5x5):\n",
        "        super(Inception, self).__init__()\n",
        "        self.branch1 = nn.Sequential(\n",
        "            nn.Conv2d(in_channels, channels_1x1, kernel_size=1),\n",
        "            nn.BatchNorm2d(channels_1x1),\n",
        "            nn.ReLU(inplace=True)\n",
        "        )\n",
        "        self.branch2 = nn.Sequential(\n",
        "            nn.Conv2d(in_channels, channels_3x3_reduce, kernel_size=1),\n",
        "            nn.BatchNorm2d(channels_3x3_reduce),\n",
        "            nn.ReLU(inplace=True),\n",
        "            nn.Conv2d(channels_3x3_reduce, channels_3x3, kernel_size=3, padding=1),\n",
        "            nn.BatchNorm2d(channels_3x3),\n",
        "            nn.ReLU(inplace=True)\n",
        "        )\n",
        "        self.branch3 = nn.Sequential(\n",
        "            nn.Conv2d(in_channels, channels_5x5_reduce, kernel_size=1),\n",
        "            nn.BatchNorm2d(channels_5x5_reduce),\n",
        "            nn.ReLU(inplace=True),\n",
        "            nn.Conv2d(channels_5x5_reduce, channels_5x5, kernel_size=5, padding=2),\n",
        "            nn.BatchNorm2d(channels_5x5),\n",
        "            nn.ReLU(inplace=True)\n",
        "        )\n",
        "        self.branch4 = nn.Sequential(\n",
        "            nn.MaxPool2d(kernel_size=3, stride=1, padding=1),\n",
        "            nn.Conv2d(in_channels, channels_5x5, kernel_size=1),\n",
        "            nn.BatchNorm2d(channels_5x5),\n",
        "            nn.ReLU(inplace=True)\n",
        "        )\n",
        "\n",
        "    def forward(self, x):\n",
        "        branch1 = self.branch1(x)\n",
        "        branch2 = self.branch2(x)\n",
        "        branch3 = self.branch3(x)\n",
        "        branch4 = self.branch4(x)\n",
        "        x = torch.cat([branch1, branch2, branch3, branch4], 1)\n",
        "        return x\n",
        "\n",
        "model_googlenet = GoogLeNet().to(device)\n",
        "\n",
        "\n",
        "\n",
        "\n",
        "\n",
        "\n",
        "\n",
        "#---SqueezeNet from Torchvision model---\n",
        "from torchvision import models\n",
        "\n",
        "model_sqnet = models.squeezenet1_0(weights='DEFAULT').to(device)\n",
        "or\n",
        "model_sqnet = models.squeezenet1_0(weights=None)\n",
        "state_dict = torch.load(\"squeezenet1_0_weights.pth\")\n",
        "model_sqnet.load_state_dict(state_dict)\n",
        "```\n",
        "\n"
      ]
    }
  ],
  "metadata": {
    "colab": {
      "collapsed_sections": [
        "a7zOjSZv-a5O"
      ],
      "provenance": []
    },
    "kernelspec": {
      "display_name": "Python 3.9.12",
      "language": "python",
      "name": "python3"
    },
    "language_info": {
      "codemirror_mode": {
        "name": "ipython",
        "version": 3
      },
      "file_extension": ".py",
      "mimetype": "text/x-python",
      "name": "python",
      "nbconvert_exporter": "python",
      "pygments_lexer": "ipython3",
      "version": "3.8.16"
    },
    "vscode": {
      "interpreter": {
        "hash": "672f1f04373ba0bfe81ddf50d232d84b9b6dccc610a78c59e8ffefd8db4edeac"
      }
    },
    "widgets": {
      "application/vnd.jupyter.widget-state+json": {
        "8d3e407ab54a410986b1d3583db7316f": {
          "model_module": "@jupyter-widgets/controls",
          "model_name": "HBoxModel",
          "model_module_version": "1.5.0",
          "state": {
            "_dom_classes": [],
            "_model_module": "@jupyter-widgets/controls",
            "_model_module_version": "1.5.0",
            "_model_name": "HBoxModel",
            "_view_count": null,
            "_view_module": "@jupyter-widgets/controls",
            "_view_module_version": "1.5.0",
            "_view_name": "HBoxView",
            "box_style": "",
            "children": [
              "IPY_MODEL_7a8aa9725d5b4e45b5f848f7fafd5ff6",
              "IPY_MODEL_e7b79b5682ec4f41a59cc3a31af1fe81",
              "IPY_MODEL_ce9f1dce571e461abc163346a808897e"
            ],
            "layout": "IPY_MODEL_97962b634882449f965caee7d9164823"
          }
        },
        "7a8aa9725d5b4e45b5f848f7fafd5ff6": {
          "model_module": "@jupyter-widgets/controls",
          "model_name": "HTMLModel",
          "model_module_version": "1.5.0",
          "state": {
            "_dom_classes": [],
            "_model_module": "@jupyter-widgets/controls",
            "_model_module_version": "1.5.0",
            "_model_name": "HTMLModel",
            "_view_count": null,
            "_view_module": "@jupyter-widgets/controls",
            "_view_module_version": "1.5.0",
            "_view_name": "HTMLView",
            "description": "",
            "description_tooltip": null,
            "layout": "IPY_MODEL_4c6c480813ee498987f71a71f0948be0",
            "placeholder": "​",
            "style": "IPY_MODEL_40bed6fed4eb4d7c8626ca2ccf18ac1f",
            "value": "Downloading builder script: 100%"
          }
        },
        "e7b79b5682ec4f41a59cc3a31af1fe81": {
          "model_module": "@jupyter-widgets/controls",
          "model_name": "FloatProgressModel",
          "model_module_version": "1.5.0",
          "state": {
            "_dom_classes": [],
            "_model_module": "@jupyter-widgets/controls",
            "_model_module_version": "1.5.0",
            "_model_name": "FloatProgressModel",
            "_view_count": null,
            "_view_module": "@jupyter-widgets/controls",
            "_view_module_version": "1.5.0",
            "_view_name": "ProgressView",
            "bar_style": "success",
            "description": "",
            "description_tooltip": null,
            "layout": "IPY_MODEL_e3bee2ccff754240ad37942dde46c505",
            "max": 4203,
            "min": 0,
            "orientation": "horizontal",
            "style": "IPY_MODEL_9a7aee00be9c4d9b9b84a84275a1f6e1",
            "value": 4203
          }
        },
        "ce9f1dce571e461abc163346a808897e": {
          "model_module": "@jupyter-widgets/controls",
          "model_name": "HTMLModel",
          "model_module_version": "1.5.0",
          "state": {
            "_dom_classes": [],
            "_model_module": "@jupyter-widgets/controls",
            "_model_module_version": "1.5.0",
            "_model_name": "HTMLModel",
            "_view_count": null,
            "_view_module": "@jupyter-widgets/controls",
            "_view_module_version": "1.5.0",
            "_view_name": "HTMLView",
            "description": "",
            "description_tooltip": null,
            "layout": "IPY_MODEL_bf005ff3af3c430d8e6f9e57f194c2f0",
            "placeholder": "​",
            "style": "IPY_MODEL_5f4a9b9c19cf402b96bb27abf475865c",
            "value": " 4.20k/4.20k [00:00&lt;00:00, 120kB/s]"
          }
        },
        "97962b634882449f965caee7d9164823": {
          "model_module": "@jupyter-widgets/base",
          "model_name": "LayoutModel",
          "model_module_version": "1.2.0",
          "state": {
            "_model_module": "@jupyter-widgets/base",
            "_model_module_version": "1.2.0",
            "_model_name": "LayoutModel",
            "_view_count": null,
            "_view_module": "@jupyter-widgets/base",
            "_view_module_version": "1.2.0",
            "_view_name": "LayoutView",
            "align_content": null,
            "align_items": null,
            "align_self": null,
            "border": null,
            "bottom": null,
            "display": null,
            "flex": null,
            "flex_flow": null,
            "grid_area": null,
            "grid_auto_columns": null,
            "grid_auto_flow": null,
            "grid_auto_rows": null,
            "grid_column": null,
            "grid_gap": null,
            "grid_row": null,
            "grid_template_areas": null,
            "grid_template_columns": null,
            "grid_template_rows": null,
            "height": null,
            "justify_content": null,
            "justify_items": null,
            "left": null,
            "margin": null,
            "max_height": null,
            "max_width": null,
            "min_height": null,
            "min_width": null,
            "object_fit": null,
            "object_position": null,
            "order": null,
            "overflow": null,
            "overflow_x": null,
            "overflow_y": null,
            "padding": null,
            "right": null,
            "top": null,
            "visibility": null,
            "width": null
          }
        },
        "4c6c480813ee498987f71a71f0948be0": {
          "model_module": "@jupyter-widgets/base",
          "model_name": "LayoutModel",
          "model_module_version": "1.2.0",
          "state": {
            "_model_module": "@jupyter-widgets/base",
            "_model_module_version": "1.2.0",
            "_model_name": "LayoutModel",
            "_view_count": null,
            "_view_module": "@jupyter-widgets/base",
            "_view_module_version": "1.2.0",
            "_view_name": "LayoutView",
            "align_content": null,
            "align_items": null,
            "align_self": null,
            "border": null,
            "bottom": null,
            "display": null,
            "flex": null,
            "flex_flow": null,
            "grid_area": null,
            "grid_auto_columns": null,
            "grid_auto_flow": null,
            "grid_auto_rows": null,
            "grid_column": null,
            "grid_gap": null,
            "grid_row": null,
            "grid_template_areas": null,
            "grid_template_columns": null,
            "grid_template_rows": null,
            "height": null,
            "justify_content": null,
            "justify_items": null,
            "left": null,
            "margin": null,
            "max_height": null,
            "max_width": null,
            "min_height": null,
            "min_width": null,
            "object_fit": null,
            "object_position": null,
            "order": null,
            "overflow": null,
            "overflow_x": null,
            "overflow_y": null,
            "padding": null,
            "right": null,
            "top": null,
            "visibility": null,
            "width": null
          }
        },
        "40bed6fed4eb4d7c8626ca2ccf18ac1f": {
          "model_module": "@jupyter-widgets/controls",
          "model_name": "DescriptionStyleModel",
          "model_module_version": "1.5.0",
          "state": {
            "_model_module": "@jupyter-widgets/controls",
            "_model_module_version": "1.5.0",
            "_model_name": "DescriptionStyleModel",
            "_view_count": null,
            "_view_module": "@jupyter-widgets/base",
            "_view_module_version": "1.2.0",
            "_view_name": "StyleView",
            "description_width": ""
          }
        },
        "e3bee2ccff754240ad37942dde46c505": {
          "model_module": "@jupyter-widgets/base",
          "model_name": "LayoutModel",
          "model_module_version": "1.2.0",
          "state": {
            "_model_module": "@jupyter-widgets/base",
            "_model_module_version": "1.2.0",
            "_model_name": "LayoutModel",
            "_view_count": null,
            "_view_module": "@jupyter-widgets/base",
            "_view_module_version": "1.2.0",
            "_view_name": "LayoutView",
            "align_content": null,
            "align_items": null,
            "align_self": null,
            "border": null,
            "bottom": null,
            "display": null,
            "flex": null,
            "flex_flow": null,
            "grid_area": null,
            "grid_auto_columns": null,
            "grid_auto_flow": null,
            "grid_auto_rows": null,
            "grid_column": null,
            "grid_gap": null,
            "grid_row": null,
            "grid_template_areas": null,
            "grid_template_columns": null,
            "grid_template_rows": null,
            "height": null,
            "justify_content": null,
            "justify_items": null,
            "left": null,
            "margin": null,
            "max_height": null,
            "max_width": null,
            "min_height": null,
            "min_width": null,
            "object_fit": null,
            "object_position": null,
            "order": null,
            "overflow": null,
            "overflow_x": null,
            "overflow_y": null,
            "padding": null,
            "right": null,
            "top": null,
            "visibility": null,
            "width": null
          }
        },
        "9a7aee00be9c4d9b9b84a84275a1f6e1": {
          "model_module": "@jupyter-widgets/controls",
          "model_name": "ProgressStyleModel",
          "model_module_version": "1.5.0",
          "state": {
            "_model_module": "@jupyter-widgets/controls",
            "_model_module_version": "1.5.0",
            "_model_name": "ProgressStyleModel",
            "_view_count": null,
            "_view_module": "@jupyter-widgets/base",
            "_view_module_version": "1.2.0",
            "_view_name": "StyleView",
            "bar_color": null,
            "description_width": ""
          }
        },
        "bf005ff3af3c430d8e6f9e57f194c2f0": {
          "model_module": "@jupyter-widgets/base",
          "model_name": "LayoutModel",
          "model_module_version": "1.2.0",
          "state": {
            "_model_module": "@jupyter-widgets/base",
            "_model_module_version": "1.2.0",
            "_model_name": "LayoutModel",
            "_view_count": null,
            "_view_module": "@jupyter-widgets/base",
            "_view_module_version": "1.2.0",
            "_view_name": "LayoutView",
            "align_content": null,
            "align_items": null,
            "align_self": null,
            "border": null,
            "bottom": null,
            "display": null,
            "flex": null,
            "flex_flow": null,
            "grid_area": null,
            "grid_auto_columns": null,
            "grid_auto_flow": null,
            "grid_auto_rows": null,
            "grid_column": null,
            "grid_gap": null,
            "grid_row": null,
            "grid_template_areas": null,
            "grid_template_columns": null,
            "grid_template_rows": null,
            "height": null,
            "justify_content": null,
            "justify_items": null,
            "left": null,
            "margin": null,
            "max_height": null,
            "max_width": null,
            "min_height": null,
            "min_width": null,
            "object_fit": null,
            "object_position": null,
            "order": null,
            "overflow": null,
            "overflow_x": null,
            "overflow_y": null,
            "padding": null,
            "right": null,
            "top": null,
            "visibility": null,
            "width": null
          }
        },
        "5f4a9b9c19cf402b96bb27abf475865c": {
          "model_module": "@jupyter-widgets/controls",
          "model_name": "DescriptionStyleModel",
          "model_module_version": "1.5.0",
          "state": {
            "_model_module": "@jupyter-widgets/controls",
            "_model_module_version": "1.5.0",
            "_model_name": "DescriptionStyleModel",
            "_view_count": null,
            "_view_module": "@jupyter-widgets/base",
            "_view_module_version": "1.2.0",
            "_view_name": "StyleView",
            "description_width": ""
          }
        }
      }
    }
  },
  "nbformat": 4,
  "nbformat_minor": 0
}